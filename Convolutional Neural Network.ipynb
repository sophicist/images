{
 "cells": [
  {
   "cell_type": "code",
   "execution_count": 1,
   "metadata": {},
   "outputs": [],
   "source": [
    "import cv2\n",
    "import tensorflow as tf\n",
    "from tensorflow import keras\n",
    "import numpy\n",
    "import matplotlib.pyplot as plt\n",
    "import pickle\n",
    "from tensorflow.keras.layers import Conv2D,Dense,Flatten,Dropout,Activation,MaxPooling2D\n",
    "from tensorflow.keras.models import Sequential\n",
    "\n",
    "gpu_options =tf.GPUOptions(per_process_gpu_memory_fraction=0.8)\n",
    "sess =tf.Session(config=tf.ConfigProto(gpu_options=gpu_options))\n"
   ]
  },
  {
   "cell_type": "code",
   "execution_count": 2,
   "metadata": {},
   "outputs": [],
   "source": [
    "#Load the data\n",
    "X_in =open(\"X.pickle\",\"rb\")\n",
    "X = pickle.load(X_in)\n",
    "\n",
    "X_in =open(\"Y.pickle\",\"rb\")\n",
    "Y = pickle.load(X_in)\n",
    "X=X/255"
   ]
  },
  {
   "cell_type": "code",
   "execution_count": 3,
   "metadata": {},
   "outputs": [
    {
     "name": "stdout",
     "output_type": "stream",
     "text": [
      "WARNING:tensorflow:From C:\\Users\\Maria\\Anaconda31\\lib\\site-packages\\tensorflow\\python\\ops\\resource_variable_ops.py:435: colocate_with (from tensorflow.python.framework.ops) is deprecated and will be removed in a future version.\n",
      "Instructions for updating:\n",
      "Colocations handled automatically by placer.\n",
      "Train on 22500 samples, validate on 2500 samples\n",
      "WARNING:tensorflow:From C:\\Users\\Maria\\Anaconda31\\lib\\site-packages\\tensorflow\\python\\ops\\math_ops.py:3066: to_int32 (from tensorflow.python.ops.math_ops) is deprecated and will be removed in a future version.\n",
      "Instructions for updating:\n",
      "Use tf.cast instead.\n",
      "22500/22500 [==============================] - 242s 11ms/sample - loss: 0.6080 - acc: 0.6642 - val_loss: 0.5837 - val_acc: 0.6968\n"
     ]
    },
    {
     "data": {
      "text/plain": [
       "<tensorflow.python.keras.callbacks.History at 0x1e4807bbf60>"
      ]
     },
     "execution_count": 3,
     "metadata": {},
     "output_type": "execute_result"
    }
   ],
   "source": [
    "#create the nural network\n",
    "model =Sequential()\n",
    "model.add(Conv2D(64,(3,3),input_shape = X.shape[1:]))\n",
    "model.add(Activation(\"relu\"))\n",
    "model.add(MaxPooling2D(pool_size =(2,2)))\n",
    "\n",
    "model.add(Conv2D(64,(3,3)))\n",
    "model.add(Activation(\"relu\"))\n",
    "model.add(MaxPooling2D(pool_size =(2,2)))\n",
    "\n",
    "model.add(Flatten())\n",
    "model.add(Dense(64))\n",
    "model.add(Activation(\"relu\"))\n",
    "\n",
    "\n",
    "model.add(Dense(1))\n",
    "model.add(Activation('sigmoid'))\n",
    "\n",
    "model.compile(loss=\"binary_crossentropy\",\n",
    "             optimizer =\"adam\",\n",
    "             metrics =['accuracy'])\n",
    "model.fit(X,Y,batch_size=32,validation_split =.1,epochs=1)"
   ]
  },
  {
   "cell_type": "code",
   "execution_count": 4,
   "metadata": {},
   "outputs": [],
   "source": [
    "model.save(\"Dog_Cat.model\")"
   ]
  },
  {
   "cell_type": "markdown",
   "metadata": {},
   "source": [
    "#bring in the tensor board\n",
    "import time\n",
    "from tensorflow.keras.callbacks import TensorBoard\n",
    "Name =\"cat_vs_dogs_cnn-{}\".format(int(time.time()))\n",
    "tensorboard =TensorBoard(log_dir=\"logs/{}\".format(Name))\n",
    "\n",
    "model.fit(X,Y,batch_size=32,validation_split =.1,epochs=1,callbacks=[tensorboard])\n",
    "\n",
    "for i in animal:\n",
    "        path1 = os.path.join(path,i)\n",
    "        class_num = animal.index(i)\n",
    "        for image in os.listdir(path1):\n",
    "            try:\n",
    "                img_array = cv2.imread(os.path.join(path1,image),cv2.IMREAD_GRAYSCALE)\n",
    "                new_array = cv2.resize(img_array,(image_size,image_size))\n",
    "                training_data.append([new_array,class_num])\n",
    "            except:\n",
    "                print(\"this is error number:\",image)"
   ]
  },
  {
   "cell_type": "code",
   "execution_count": 69,
   "metadata": {},
   "outputs": [],
   "source": [
    "\n",
    "training_data = []\n",
    "animal =[\"Cats\",\"Dogs\"]\n",
    "path = \"C:\\\\Users\\\\Maria\\\\Desktop\\\\Deep Learning Sentdex\"\n",
    "def  prepare(filepath):\n",
    "    image_size = 50\n",
    "    img_array = cv2.imread(filepath,cv2.IMREAD_GRAYSCALE)\n",
    "    img_array =cv2.resize(img_array,(image_size,image_size))\n",
    "    return img_array.reshape(-1,image_size,image_size,1)\n",
    "    \n",
    "model =tf.keras.models.load_model(\"Dog_Cat.model\")\n"
   ]
  },
  {
   "cell_type": "code",
   "execution_count": 74,
   "metadata": {},
   "outputs": [
    {
     "name": "stdout",
     "output_type": "stream",
     "text": [
      "Dogs\n"
     ]
    }
   ],
   "source": [
    "animal =[\"Cats\",\"Dogs\"]\n",
    "pred = model.predict(prepare(\"ngui4.jpg\"))\n",
    "print(animal[int(pred[0][0])])"
   ]
  },
  {
   "cell_type": "code",
   "execution_count": 73,
   "metadata": {},
   "outputs": [
    {
     "data": {
      "text/plain": [
       "0.0"
      ]
     },
     "execution_count": 73,
     "metadata": {},
     "output_type": "execute_result"
    }
   ],
   "source": [
    "pred[0][0]"
   ]
  },
  {
   "cell_type": "code",
   "execution_count": 32,
   "metadata": {},
   "outputs": [
    {
     "data": {
      "text/plain": [
       "[array([[[[202],\n",
       "          [197],\n",
       "          [208],\n",
       "          ...,\n",
       "          [109],\n",
       "          [125],\n",
       "          [ 90]],\n",
       " \n",
       "         [[199],\n",
       "          [194],\n",
       "          [206],\n",
       "          ...,\n",
       "          [115],\n",
       "          [113],\n",
       "          [100]],\n",
       " \n",
       "         [[195],\n",
       "          [188],\n",
       "          [207],\n",
       "          ...,\n",
       "          [112],\n",
       "          [115],\n",
       "          [104]],\n",
       " \n",
       "         ...,\n",
       " \n",
       "         [[137],\n",
       "          [136],\n",
       "          [114],\n",
       "          ...,\n",
       "          [125],\n",
       "          [131],\n",
       "          [135]],\n",
       " \n",
       "         [[103],\n",
       "          [142],\n",
       "          [ 75],\n",
       "          ...,\n",
       "          [119],\n",
       "          [134],\n",
       "          [128]],\n",
       " \n",
       "         [[116],\n",
       "          [121],\n",
       "          [111],\n",
       "          ...,\n",
       "          [117],\n",
       "          [132],\n",
       "          [127]]]], dtype=uint8), array([[[[114],\n",
       "          [115],\n",
       "          [108],\n",
       "          ...,\n",
       "          [173],\n",
       "          [177],\n",
       "          [138]],\n",
       " \n",
       "         [[114],\n",
       "          [115],\n",
       "          [105],\n",
       "          ...,\n",
       "          [188],\n",
       "          [208],\n",
       "          [162]],\n",
       " \n",
       "         [[114],\n",
       "          [116],\n",
       "          [106],\n",
       "          ...,\n",
       "          [164],\n",
       "          [140],\n",
       "          [146]],\n",
       " \n",
       "         ...,\n",
       " \n",
       "         [[206],\n",
       "          [196],\n",
       "          [170],\n",
       "          ...,\n",
       "          [187],\n",
       "          [186],\n",
       "          [186]],\n",
       " \n",
       "         [[190],\n",
       "          [178],\n",
       "          [173],\n",
       "          ...,\n",
       "          [178],\n",
       "          [173],\n",
       "          [181]],\n",
       " \n",
       "         [[180],\n",
       "          [168],\n",
       "          [169],\n",
       "          ...,\n",
       "          [172],\n",
       "          [175],\n",
       "          [174]]]], dtype=uint8), array([[[[ 64],\n",
       "          [ 59],\n",
       "          [ 60],\n",
       "          ...,\n",
       "          [ 51],\n",
       "          [ 49],\n",
       "          [ 51]],\n",
       " \n",
       "         [[ 66],\n",
       "          [ 61],\n",
       "          [ 63],\n",
       "          ...,\n",
       "          [ 50],\n",
       "          [ 49],\n",
       "          [ 50]],\n",
       " \n",
       "         [[ 67],\n",
       "          [ 66],\n",
       "          [ 64],\n",
       "          ...,\n",
       "          [ 57],\n",
       "          [ 49],\n",
       "          [ 49]],\n",
       " \n",
       "         ...,\n",
       " \n",
       "         [[236],\n",
       "          [136],\n",
       "          [ 64],\n",
       "          ...,\n",
       "          [ 96],\n",
       "          [104],\n",
       "          [137]],\n",
       " \n",
       "         [[234],\n",
       "          [184],\n",
       "          [ 66],\n",
       "          ...,\n",
       "          [124],\n",
       "          [150],\n",
       "          [132]],\n",
       " \n",
       "         [[251],\n",
       "          [180],\n",
       "          [ 79],\n",
       "          ...,\n",
       "          [105],\n",
       "          [110],\n",
       "          [121]]]], dtype=uint8)]"
      ]
     },
     "execution_count": 32,
     "metadata": {},
     "output_type": "execute_result"
    }
   ],
   "source": [
    "[prepare(\"animals//\"+i) for i in os.listdir(\"animals\")]"
   ]
  },
  {
   "cell_type": "code",
   "execution_count": null,
   "metadata": {},
   "outputs": [],
   "source": []
  }
 ],
 "metadata": {
  "kernelspec": {
   "display_name": "Python 3",
   "language": "python",
   "name": "python3"
  },
  "language_info": {
   "codemirror_mode": {
    "name": "ipython",
    "version": 3
   },
   "file_extension": ".py",
   "mimetype": "text/x-python",
   "name": "python",
   "nbconvert_exporter": "python",
   "pygments_lexer": "ipython3",
   "version": "3.7.0"
  }
 },
 "nbformat": 4,
 "nbformat_minor": 2
}
